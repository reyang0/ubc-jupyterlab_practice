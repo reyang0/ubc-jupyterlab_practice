{
 "cells": [
  {
   "cell_type": "markdown",
   "id": "42be68c2-a4f6-4d94-9913-55026de2b18f",
   "metadata": {
    "editable": true,
    "slideshow": {
     "slide_type": ""
    },
    "tags": []
   },
   "source": [
    "<h1>Rebecca</h1> \n",
    "Notebook for assignment 7"
   ]
  },
  {
   "cell_type": "code",
   "execution_count": 1,
   "id": "b76bc5c0-3371-4981-a9aa-35dd7b852b13",
   "metadata": {
    "editable": true,
    "slideshow": {
     "slide_type": ""
    },
    "tags": []
   },
   "outputs": [
    {
     "name": "stdout",
     "output_type": "stream",
     "text": [
      "Output: 5\n"
     ]
    }
   ],
   "source": [
    "'''\n",
    "A code cell with a Python function that computes the mean of the values in a list and prints the results. \n",
    "The function should be called at the bottom of the code cell with the syntax compute_mean([2, 4, 6, 8]) which should output 5 (or 5.0). \n",
    "The code cell should be executed so that the output is shown.\n",
    "'''\n",
    "\n",
    "def compute_mean(input_list):\n",
    "    return int(sum(input_list) / len(input_list))\n",
    "    \n",
    "print(f\"Output: {compute_mean([2, 4, 6, 8])}\")\n"
   ]
  },
  {
   "cell_type": "markdown",
   "id": "65423326-4ee6-402d-9049-41fde09a5b3b",
   "metadata": {
    "editable": true,
    "slideshow": {
     "slide_type": ""
    },
    "tags": []
   },
   "source": [
    "The function `compute_mean` takes in a list of integers and outputs the mean of the list.\n",
    "\n",
    "$$\n",
    "\\bar{x} = \\frac{x_1 + x_2 + \\cdots + x_n}{n} = \\frac{1}{n} \\left( \\sum_{i=1}^{n} x_i \\right)\n",
    "$$"
   ]
  },
  {
   "cell_type": "code",
   "execution_count": null,
   "id": "b02ccf44-30d1-4909-a94c-51e2783c079d",
   "metadata": {
    "editable": true,
    "slideshow": {
     "slide_type": ""
    },
    "tags": []
   },
   "outputs": [],
   "source": []
  }
 ],
 "metadata": {
  "kernelspec": {
   "display_name": "Python [conda env:base] *",
   "language": "python",
   "name": "conda-base-py"
  },
  "language_info": {
   "codemirror_mode": {
    "name": "ipython",
    "version": 3
   },
   "file_extension": ".py",
   "mimetype": "text/x-python",
   "name": "python",
   "nbconvert_exporter": "python",
   "pygments_lexer": "ipython3",
   "version": "3.12.2"
  }
 },
 "nbformat": 4,
 "nbformat_minor": 5
}
