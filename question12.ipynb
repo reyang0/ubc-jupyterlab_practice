{
 "cells": [
  {
   "cell_type": "markdown",
   "id": "03174bbe-29c4-48a6-8d7f-074f899b8751",
   "metadata": {
    "editable": true,
    "slideshow": {
     "slide_type": ""
    },
    "tags": []
   },
   "source": [
    "We are currently working in the following directory:"
   ]
  },
  {
   "cell_type": "code",
   "execution_count": 1,
   "id": "837b3873-3f18-43b8-95d9-2e5d46d2b606",
   "metadata": {
    "editable": true,
    "slideshow": {
     "slide_type": ""
    },
    "tags": []
   },
   "outputs": [
    {
     "name": "stdout",
     "output_type": "stream",
     "text": [
      "/Users/reyang/Documents/_Personal/UBC_Intro_DataScience_ToolBox/Repos/ubc-jupyterlab_practice\n"
     ]
    }
   ],
   "source": [
    "# A code cell containing the shell command for displaying the current working directly using the special syntax that allows \n",
    "# us to access shell commands in Jupyter Lab cells. This cell should be executed so that the current directory shows up as output.\n",
    "!pwd"
   ]
  },
  {
   "cell_type": "markdown",
   "id": "61201809-50b4-4c79-a86a-bd0adaef3979",
   "metadata": {
    "editable": true,
    "slideshow": {
     "slide_type": ""
    },
    "tags": []
   },
   "source": [
    "To time how long it takes to run a Python cell, we could use the timeit command inside a cell as is shown below: \n",
    "Followed by the proper use of the timeit command to time the following loop:\n",
    "```\n",
    "%%timeit\n",
    "for i in range(1, 1_000_000):\n",
    "\t(i-0.1)**2\n",
    "```"
   ]
  },
  {
   "cell_type": "code",
   "execution_count": 2,
   "id": "e4ecc9e7-b43c-461d-acf1-4750cb6f1cc6",
   "metadata": {
    "editable": true,
    "slideshow": {
     "slide_type": ""
    },
    "tags": []
   },
   "outputs": [
    {
     "name": "stdout",
     "output_type": "stream",
     "text": [
      "[NbConvertApp] Converting notebook question12.ipynb to html\n",
      "[NbConvertApp] Writing 271233 bytes to question12.html\n"
     ]
    }
   ],
   "source": [
    "# A code cell that contains the command to export the Jupyter notebook to HTML without including any of the input code cells.\n",
    "!jupyter nbconvert --to html --no-input question12.ipynb"
   ]
  },
  {
   "cell_type": "code",
   "execution_count": null,
   "id": "1b3ae44a-f855-470f-9d73-75eab7a13050",
   "metadata": {
    "editable": true,
    "slideshow": {
     "slide_type": ""
    },
    "tags": []
   },
   "outputs": [],
   "source": []
  }
 ],
 "metadata": {
  "kernelspec": {
   "display_name": "Python [conda env:base] *",
   "language": "python",
   "name": "conda-base-py"
  },
  "language_info": {
   "codemirror_mode": {
    "name": "ipython",
    "version": 3
   },
   "file_extension": ".py",
   "mimetype": "text/x-python",
   "name": "python",
   "nbconvert_exporter": "python",
   "pygments_lexer": "ipython3",
   "version": "3.12.2"
  }
 },
 "nbformat": 4,
 "nbformat_minor": 5
}
